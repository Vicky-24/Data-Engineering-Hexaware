{
 "cells": [
  {
   "cell_type": "code",
   "execution_count": 0,
   "metadata": {
    "application/vnd.databricks.v1+cell": {
     "cellMetadata": {
      "byteLimit": 2048000,
      "rowLimit": 10000
     },
     "inputWidgets": {},
     "nuid": "f961090d-463a-4c68-8423-dcc953d6e9d7",
     "showTitle": false,
     "tableResultSettingsMap": {},
     "title": ""
    }
   },
   "outputs": [
    {
     "output_type": "stream",
     "name": "stdout",
     "output_type": "stream",
     "text": [
      "+---+---------+----------+----------+------+-------------------+----------------------+-------------+---+------------------+----------------+\n| id|firstName|middleName|  lastName|gender|          birthDate|social_security_number|annual_salary|age|  salary_after_tax|days_since_birth|\n+---+---------+----------+----------+------+-------------------+----------------------+-------------+---+------------------+----------------+\n|  1|   Pennie|     Carry|Hirschmann|     F|1955-07-02 04:00:00|           981-43-9345|        56172| 69|44937.600000000006|           25362|\n|  2|       An|     Amira|    Cowper|     F|1992-02-08 05:00:00|           978-97-8086|        40203| 32|           32162.4|           11992|\n|  3|    Quyen|    Marlen|      Dome|     F|1970-10-11 04:00:00|           957-57-8246|        53417| 54|42733.600000000006|           19782|\n|  4|  Coralie|  Antonina|   Marshal|     F|1990-04-11 04:00:00|           963-39-4885|        94727| 34|           75781.6|           12660|\n|  5|   Terrie|      Wava|     Bonar|     F|1980-01-16 05:00:00|           964-49-8051|        79908| 44|           63926.4|           16398|\n+---+---------+----------+----------+------+-------------------+----------------------+-------------+---+------------------+----------------+\nonly showing top 5 rows\n\n"
     ]
    }
   ],
   "source": [
    "#**Load Data (Save as Delta Table)**: Save the final transformed data to a Delta table\n",
    "transformed_data = spark.table(\"default.transformed_employees\")\n",
    "transformed_data.show(5)"
   ]
  }
 ],
 "metadata": {
  "application/vnd.databricks.v1+notebook": {
   "computePreferences": null,
   "dashboards": [],
   "environmentMetadata": {
    "base_environment": "",
    "client": "1"
   },
   "language": "python",
   "notebookMetadata": {
    "pythonIndentUnit": 4
   },
   "notebookName": "Loading Transformed Data(Export)",
   "widgets": {}
  },
  "language_info": {
   "name": "python"
  }
 },
 "nbformat": 4,
 "nbformat_minor": 0
}