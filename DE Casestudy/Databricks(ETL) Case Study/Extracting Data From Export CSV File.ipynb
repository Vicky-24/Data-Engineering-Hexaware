{
 "cells": [
  {
   "cell_type": "code",
   "execution_count": 0,
   "metadata": {
    "application/vnd.databricks.v1+cell": {
     "cellMetadata": {
      "byteLimit": 2048000,
      "rowLimit": 10000
     },
     "inputWidgets": {},
     "nuid": "aa2fd164-5458-4cc9-b033-d628c1e459a1",
     "showTitle": false,
     "tableResultSettingsMap": {},
     "title": ""
    }
   },
   "outputs": [
    {
     "output_type": "stream",
     "name": "stdout",
     "output_type": "stream",
     "text": [
      "+---+----------+----------+-------------+------+-------------------+-----------+------+\n| id| firstName|middleName|     lastName|gender|          birthDate|        ssn|salary|\n+---+----------+----------+-------------+------+-------------------+-----------+------+\n|  1|    Pennie|     Carry|   Hirschmann|     F|1955-07-02 04:00:00|981-43-9345| 56172|\n|  2|        An|     Amira|       Cowper|     F|1992-02-08 05:00:00|978-97-8086| 40203|\n|  3|     Quyen|    Marlen|         Dome|     F|1970-10-11 04:00:00|957-57-8246| 53417|\n|  4|   Coralie|  Antonina|      Marshal|     F|1990-04-11 04:00:00|963-39-4885| 94727|\n|  5|    Terrie|      Wava|        Bonar|     F|1980-01-16 05:00:00|964-49-8051| 79908|\n|  6|  Chassidy|Concepcion|Bourthouloume|     F|1990-11-24 05:00:00|954-59-9172| 64652|\n|  7|      Geri|    Tambra|        Mosby|     F|1970-12-19 05:00:00|968-16-4020| 38195|\n|  8|    Patria|     Nancy|      Arstall|     F|1985-01-02 05:00:00|984-76-3770|102053|\n|  9|    Terese|  Alfredia|       Tocque|     F|1967-11-17 05:00:00|967-48-7309| 91294|\n| 10|      Wava|   Lyndsey|      Jeandon|     F|1963-12-30 05:00:00|997-82-2946| 56521|\n| 11|    Sophie|   Emerita|        Hearn|     F|1979-09-17 04:00:00|977-66-4483| 90920|\n| 12|     Jodie|   Tabetha|      Laneham|     F|1959-01-31 05:00:00|923-24-9769| 90634|\n| 13|  Marietta|     Mandi|      Yansons|     F|1974-02-19 04:00:00|900-34-8083| 93162|\n| 14|   Caridad|     Maire|       Snelle|     F|1960-09-26 04:00:00|992-11-7062| 38859|\n| 15|   Yasmine|       Meg|    Edworthye|     F|1960-01-29 05:00:00|922-12-9862| 76220|\n| 16|      Chan|      Jani|       Hartas|     F|1986-12-05 05:00:00|995-51-3115| 75050|\n| 17|Evangeline|   Wanetta|    Casserley|     F|1961-09-29 04:00:00|926-61-3526| 62814|\n| 18|    Elnora|     Kecia|       Lipman|     F|1980-02-14 05:00:00|950-23-9739| 71350|\n| 19|    Adelle|   Kathyrn|    Grigoriev|     F|1978-11-14 05:00:00|923-23-5984| 60600|\n| 20|      Mica|    Zandra|     Challens|     F|1973-11-24 05:00:00|918-66-1232| 51071|\n+---+----------+----------+-------------+------+-------------------+-----------+------+\nonly showing top 20 rows\n\n+---+----------+----------+-------------+------+-------------------+-----------+------+\n| id| firstName|middleName|     lastName|gender|          birthDate|        ssn|salary|\n+---+----------+----------+-------------+------+-------------------+-----------+------+\n|  1|    Pennie|     Carry|   Hirschmann|     F|1955-07-02 04:00:00|981-43-9345| 56172|\n|  2|        An|     Amira|       Cowper|     F|1992-02-08 05:00:00|978-97-8086| 40203|\n|  3|     Quyen|    Marlen|         Dome|     F|1970-10-11 04:00:00|957-57-8246| 53417|\n|  4|   Coralie|  Antonina|      Marshal|     F|1990-04-11 04:00:00|963-39-4885| 94727|\n|  5|    Terrie|      Wava|        Bonar|     F|1980-01-16 05:00:00|964-49-8051| 79908|\n|  6|  Chassidy|Concepcion|Bourthouloume|     F|1990-11-24 05:00:00|954-59-9172| 64652|\n|  7|      Geri|    Tambra|        Mosby|     F|1970-12-19 05:00:00|968-16-4020| 38195|\n|  8|    Patria|     Nancy|      Arstall|     F|1985-01-02 05:00:00|984-76-3770|102053|\n|  9|    Terese|  Alfredia|       Tocque|     F|1967-11-17 05:00:00|967-48-7309| 91294|\n| 10|      Wava|   Lyndsey|      Jeandon|     F|1963-12-30 05:00:00|997-82-2946| 56521|\n| 11|    Sophie|   Emerita|        Hearn|     F|1979-09-17 04:00:00|977-66-4483| 90920|\n| 12|     Jodie|   Tabetha|      Laneham|     F|1959-01-31 05:00:00|923-24-9769| 90634|\n| 13|  Marietta|     Mandi|      Yansons|     F|1974-02-19 04:00:00|900-34-8083| 93162|\n| 14|   Caridad|     Maire|       Snelle|     F|1960-09-26 04:00:00|992-11-7062| 38859|\n| 15|   Yasmine|       Meg|    Edworthye|     F|1960-01-29 05:00:00|922-12-9862| 76220|\n| 16|      Chan|      Jani|       Hartas|     F|1986-12-05 05:00:00|995-51-3115| 75050|\n| 17|Evangeline|   Wanetta|    Casserley|     F|1961-09-29 04:00:00|926-61-3526| 62814|\n| 18|    Elnora|     Kecia|       Lipman|     F|1980-02-14 05:00:00|950-23-9739| 71350|\n| 19|    Adelle|   Kathyrn|    Grigoriev|     F|1978-11-14 05:00:00|923-23-5984| 60600|\n| 20|      Mica|    Zandra|     Challens|     F|1973-11-24 05:00:00|918-66-1232| 51071|\n+---+----------+----------+-------------+------+-------------------+-----------+------+\nonly showing top 20 rows\n\n"
     ]
    }
   ],
   "source": [
    "# Step 1: Extract the data from CSV\n",
    "from pyspark.sql import SparkSession\n",
    "\n",
    "# Initialize Spark Session\n",
    "spark = SparkSession.builder.appName('delta first program').getOrCreate()\n",
    "\n",
    "# 1. Query Delta table using table name from the metastore\n",
    "data_from_table = spark.table(\"default.export\")\n",
    "data_from_table.show()\n",
    "\n",
    "# 2. Query Delta table using path from DBFS or cloud storage\n",
    "data = spark.read.format(\"delta\").load(\"dbfs:/user/hive/warehouse/export\")\n",
    "data.show()\n"
   ]
  }
 ],
 "metadata": {
  "application/vnd.databricks.v1+notebook": {
   "computePreferences": null,
   "dashboards": [],
   "environmentMetadata": {
    "base_environment": "",
    "client": "1"
   },
   "language": "python",
   "notebookMetadata": {
    "pythonIndentUnit": 4
   },
   "notebookName": "Extracting Data From Export CSV File",
   "widgets": {}
  },
  "language_info": {
   "name": "python"
  }
 },
 "nbformat": 4,
 "nbformat_minor": 0
}