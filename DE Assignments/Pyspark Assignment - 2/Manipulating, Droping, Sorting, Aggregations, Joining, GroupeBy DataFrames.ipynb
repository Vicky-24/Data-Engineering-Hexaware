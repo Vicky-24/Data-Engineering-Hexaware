{
 "cells": [
  {
   "cell_type": "code",
   "execution_count": 0,
   "metadata": {
    "application/vnd.databricks.v1+cell": {
     "cellMetadata": {
      "byteLimit": 2048000,
      "rowLimit": 10000
     },
     "inputWidgets": {},
     "nuid": "056a00a1-d527-42cf-806c-011e809451cf",
     "showTitle": false,
     "tableResultSettingsMap": {},
     "title": ""
    }
   },
   "outputs": [
    {
     "output_type": "stream",
     "name": "stdout",
     "output_type": "stream",
     "text": [
      "root\n |-- employee_name: string (nullable = true)\n |-- department: string (nullable = true)\n |-- state: string (nullable = true)\n |-- salary: long (nullable = true)\n |-- age: long (nullable = true)\n |-- bonus: long (nullable = true)\n\n+-------------+----------+-----+------+---+-----+\n|employee_name|department|state|salary|age|bonus|\n+-------------+----------+-----+------+---+-----+\n|        James|     Sales|   NY| 90000| 34|10000|\n|      Michael|     Sales|   NY| 86000| 56|20000|\n|       Robert|     Sales|   CA| 81000| 30|23000|\n|        Maria|   Finance|   CA| 90000| 24|23000|\n|        Raman|   Finance|   CA| 99000| 40|24000|\n|        Scott|   Finance|   NY| 83000| 36|19000|\n|          Jen|   Finance|   NY| 79000| 53|15000|\n|         Jeff| Marketing|   CA| 80000| 25|18000|\n|        Kumar| Marketing|   NY| 91000| 50|21000|\n+-------------+----------+-----+------+---+-----+\n\n"
     ]
    }
   ],
   "source": [
    "from pyspark.sql import SparkSession\n",
    "\n",
    "# Initialize SparkSession\n",
    "spark = SparkSession.builder \\\n",
    "    .appName(\"example\") \\\n",
    "    .getOrCreate()\n",
    "\n",
    "# Data\n",
    "simpleData = [\n",
    "    (\"James\", \"Sales\", \"NY\", 90000, 34, 10000),\n",
    "    (\"Michael\", \"Sales\", \"NY\", 86000, 56, 20000),\n",
    "    (\"Robert\", \"Sales\", \"CA\", 81000, 30, 23000),\n",
    "    (\"Maria\", \"Finance\", \"CA\", 90000, 24, 23000),\n",
    "    (\"Raman\", \"Finance\", \"CA\", 99000, 40, 24000),\n",
    "    (\"Scott\", \"Finance\", \"NY\", 83000, 36, 19000),\n",
    "    (\"Jen\", \"Finance\", \"NY\", 79000, 53, 15000),\n",
    "    (\"Jeff\", \"Marketing\", \"CA\", 80000, 25, 18000),\n",
    "    (\"Kumar\", \"Marketing\", \"NY\", 91000, 50, 21000)\n",
    "]\n",
    "\n",
    "# Create DataFrame\n",
    "schema = [\"employee_name\", \"department\", \"state\", \"salary\", \"age\", \"bonus\"]\n",
    "df = spark.createDataFrame(data=simpleData, schema=schema)\n",
    "\n",
    "# Display schema\n",
    "df.printSchema()\n",
    "df.show()\n"
   ]
  },
  {
   "cell_type": "code",
   "execution_count": 0,
   "metadata": {
    "application/vnd.databricks.v1+cell": {
     "cellMetadata": {
      "byteLimit": 2048000,
      "rowLimit": 10000
     },
     "inputWidgets": {},
     "nuid": "bd7fc61f-971c-48d2-a610-a501be00ccfc",
     "showTitle": false,
     "tableResultSettingsMap": {},
     "title": ""
    }
   },
   "outputs": [
    {
     "output_type": "stream",
     "name": "stdout",
     "output_type": "stream",
     "text": [
      "+----------+-----------+\n|department|sum(salary)|\n+----------+-----------+\n|     Sales|     257000|\n|   Finance|     351000|\n| Marketing|     171000|\n+----------+-----------+\n\n"
     ]
    }
   ],
   "source": [
    "# groupby with sum of salaries\n",
    "sumdata = df.groupBy(\"department\").sum(\"salary\")\n",
    "sumdata.show()"
   ]
  },
  {
   "cell_type": "code",
   "execution_count": 0,
   "metadata": {
    "application/vnd.databricks.v1+cell": {
     "cellMetadata": {
      "byteLimit": 2048000,
      "rowLimit": 10000
     },
     "inputWidgets": {},
     "nuid": "eb0d1854-d34e-45a0-89b8-0b912023879d",
     "showTitle": false,
     "tableResultSettingsMap": {},
     "title": ""
    }
   },
   "outputs": [
    {
     "output_type": "stream",
     "name": "stdout",
     "output_type": "stream",
     "text": [
      "+----------+-----------+\n|department|min(salary)|\n+----------+-----------+\n|     Sales|      81000|\n|   Finance|      79000|\n| Marketing|      80000|\n+----------+-----------+\n\n+----------+-----------+\n|department|max(salary)|\n+----------+-----------+\n|     Sales|      90000|\n|   Finance|      99000|\n| Marketing|      91000|\n+----------+-----------+\n\n+----------+-----------------+\n|department|      avg(salary)|\n+----------+-----------------+\n|     Sales|85666.66666666667|\n|   Finance|          87750.0|\n| Marketing|          85500.0|\n+----------+-----------------+\n\n+----------+-----------------+\n|department|      avg(salary)|\n+----------+-----------------+\n|     Sales|85666.66666666667|\n|   Finance|          87750.0|\n| Marketing|          85500.0|\n+----------+-----------------+\n\n+----------+-----+\n|department|count|\n+----------+-----+\n|     Sales|    3|\n|   Finance|    4|\n| Marketing|    2|\n+----------+-----+\n\n"
     ]
    }
   ],
   "source": [
    "df.groupBy(\"department\").min(\"salary\").show()\n",
    "df.groupBy(\"department\").max(\"salary\").show()\n",
    "df.groupBy(\"department\").avg(\"salary\").show()\n",
    "df.groupBy(\"department\").mean(\"salary\").show()\n",
    "df.groupBy(\"department\").count().show()"
   ]
  },
  {
   "cell_type": "code",
   "execution_count": 0,
   "metadata": {
    "application/vnd.databricks.v1+cell": {
     "cellMetadata": {
      "byteLimit": 2048000,
      "rowLimit": 10000
     },
     "inputWidgets": {},
     "nuid": "14d35e06-da02-4d6f-bdf8-35b24bad5991",
     "showTitle": false,
     "tableResultSettingsMap": {},
     "title": ""
    }
   },
   "outputs": [
    {
     "output_type": "stream",
     "name": "stdout",
     "output_type": "stream",
     "text": [
      "+-------------+----------+-----------+\n|employee_name|department|min(salary)|\n+-------------+----------+-----------+\n|        James|     Sales|      90000|\n|      Michael|     Sales|      86000|\n|       Robert|     Sales|      81000|\n|        Maria|   Finance|      90000|\n|        Raman|   Finance|      99000|\n|        Scott|   Finance|      83000|\n|          Jen|   Finance|      79000|\n|         Jeff| Marketing|      80000|\n|        Kumar| Marketing|      91000|\n+-------------+----------+-----------+\n\n+-------------+----------+-----------+\n|employee_name|department|max(salary)|\n+-------------+----------+-----------+\n|        James|     Sales|      90000|\n|      Michael|     Sales|      86000|\n|       Robert|     Sales|      81000|\n|        Maria|   Finance|      90000|\n|        Raman|   Finance|      99000|\n|        Scott|   Finance|      83000|\n|          Jen|   Finance|      79000|\n|         Jeff| Marketing|      80000|\n|        Kumar| Marketing|      91000|\n+-------------+----------+-----------+\n\n+-------------+----------+-----------+\n|employee_name|department|avg(salary)|\n+-------------+----------+-----------+\n|        James|     Sales|    90000.0|\n|      Michael|     Sales|    86000.0|\n|       Robert|     Sales|    81000.0|\n|        Maria|   Finance|    90000.0|\n|        Raman|   Finance|    99000.0|\n|        Scott|   Finance|    83000.0|\n|          Jen|   Finance|    79000.0|\n|         Jeff| Marketing|    80000.0|\n|        Kumar| Marketing|    91000.0|\n+-------------+----------+-----------+\n\n+-------------+----------+-----------+\n|employee_name|department|avg(salary)|\n+-------------+----------+-----------+\n|        James|     Sales|    90000.0|\n|      Michael|     Sales|    86000.0|\n|       Robert|     Sales|    81000.0|\n|        Maria|   Finance|    90000.0|\n|        Raman|   Finance|    99000.0|\n|        Scott|   Finance|    83000.0|\n|          Jen|   Finance|    79000.0|\n|         Jeff| Marketing|    80000.0|\n|        Kumar| Marketing|    91000.0|\n+-------------+----------+-----------+\n\n+-------------+----------+-----+\n|employee_name|department|count|\n+-------------+----------+-----+\n|        James|     Sales|    1|\n|      Michael|     Sales|    1|\n|       Robert|     Sales|    1|\n|        Maria|   Finance|    1|\n|        Raman|   Finance|    1|\n|        Scott|   Finance|    1|\n|          Jen|   Finance|    1|\n|         Jeff| Marketing|    1|\n|        Kumar| Marketing|    1|\n+-------------+----------+-----+\n\n"
     ]
    }
   ],
   "source": [
    "#grouping by multiple columns\n",
    "df.groupBy(\"employee_name\",\"department\").min(\"salary\").show()\n",
    "df.groupBy(\"employee_name\",\"department\").max(\"salary\").show()\n",
    "df.groupBy(\"employee_name\",\"department\").avg(\"salary\").show()\n",
    "df.groupBy(\"employee_name\",\"department\").mean(\"salary\").show()\n",
    "df.groupBy(\"employee_name\",\"department\").count().show()"
   ]
  },
  {
   "cell_type": "code",
   "execution_count": 0,
   "metadata": {
    "application/vnd.databricks.v1+cell": {
     "cellMetadata": {
      "byteLimit": 2048000,
      "rowLimit": 10000
     },
     "inputWidgets": {},
     "nuid": "30b8a644-4cbc-4a8f-aadc-f2b5bdbb2d4b",
     "showTitle": false,
     "tableResultSettingsMap": {},
     "title": ""
    }
   },
   "outputs": [
    {
     "output_type": "stream",
     "name": "stdout",
     "output_type": "stream",
     "text": [
      "+----------+-----------+\n|department|sum(salary)|\n+----------+-----------+\n|     Sales|     257000|\n|   Finance|     351000|\n| Marketing|     171000|\n+----------+-----------+\n\n+----------+-----+-----+-----+-----+-----+-------+-----+------+-----+\n|department|James| Jeff|  Jen|Kumar|Maria|Michael|Raman|Robert|Scott|\n+----------+-----+-----+-----+-----+-----+-------+-----+------+-----+\n|     Sales|90000| null| null| null| null|  86000| null| 81000| null|\n|   Finance| null| null|79000| null|90000|   null|99000|  null|83000|\n| Marketing| null|80000| null|91000| null|   null| null|  null| null|\n+----------+-----+-----+-----+-----+-----+-------+-----+------+-----+\n\n"
     ]
    }
   ],
   "source": [
    "#using pivot function\n",
    "df.groupBy(\"department\").sum(\"salary\").show()\n",
    "df.groupBy(\"department\").pivot(\"employee_name\").sum(\"salary\").show()"
   ]
  },
  {
   "cell_type": "code",
   "execution_count": 0,
   "metadata": {
    "application/vnd.databricks.v1+cell": {
     "cellMetadata": {
      "byteLimit": 2048000,
      "rowLimit": 10000
     },
     "inputWidgets": {},
     "nuid": "abdb0468-5f89-4bb9-96cb-d11dccdb6549",
     "showTitle": false,
     "tableResultSettingsMap": {},
     "title": ""
    }
   },
   "outputs": [
    {
     "output_type": "stream",
     "name": "stdout",
     "output_type": "stream",
     "text": [
      "+----------+-----------+\n|department|sum(salary)|\n+----------+-----------+\n|     Sales|     257000|\n|   Finance|     351000|\n| Marketing|     171000|\n+----------+-----------+\n\n+-----------+\n|sum(salary)|\n+-----------+\n|     779000|\n+-----------+\n\n"
     ]
    }
   ],
   "source": [
    "df.groupBy(\"department\").agg(({\"salary\":\"sum\"})).show()\n",
    "df.agg(({\"salary\":\"sum\"})).show()  # Without group using agg on salary colums"
   ]
  },
  {
   "cell_type": "code",
   "execution_count": 0,
   "metadata": {
    "application/vnd.databricks.v1+cell": {
     "cellMetadata": {
      "byteLimit": 2048000,
      "rowLimit": 10000
     },
     "inputWidgets": {},
     "nuid": "e91b0057-6d7b-4b8f-90a1-7d4a21cef864",
     "showTitle": false,
     "tableResultSettingsMap": {},
     "title": ""
    }
   },
   "outputs": [
    {
     "output_type": "stream",
     "name": "stdout",
     "output_type": "stream",
     "text": [
      "+-------------+----------+-----+------+----+-----+\n|employee_name|department|state|salary| age|bonus|\n+-------------+----------+-----+------+----+-----+\n|        James|     Sales|   NY| 90000|  34|10000|\n|      Michael|     Sales|   NY| 86000|  56|20000|\n|       Robert|     Sales|   CA| 81000|null|23000|\n|        Maria|   Finance|   CA| 90000|  24|23000|\n|        Raman|   Finance|   CA| 99000|  40| null|\n|        Scott|   Finance|   NY|  null|  36|44000|\n|          Jen|   Finance|   NY| 55000|  53|15000|\n|         Jeff|      null|   CA| 80000|  25|18000|\n|         null| Marketing|   NY| 91000|  50|21000|\n+-------------+----------+-----+------+----+-----+\n\n"
     ]
    }
   ],
   "source": [
    "from pyspark.sql import SparkSession\n",
    "\n",
    "# Initialize SparkSession\n",
    "spark = SparkSession.builder \\\n",
    ".appName(\"example\") \\\n",
    ".getOrCreate()\n",
    "# Data\n",
    "simpleData = [(\"James\",\"Sales\",\"NY\",90000,34,10000),\n",
    "(\"Michael\",\"Sales\",\"NY\",86000,56,20000),\n",
    "(\"Robert\",\"Sales\",\"CA\",81000,None,23000),\n",
    "(\"Maria\",\"Finance\",\"CA\",90000,24,23000),\n",
    "(\"Raman\",\"Finance\",\"CA\",99000,40,None),\n",
    "(\"Scott\",\"Finance\",\"NY\",None,36,44000),\n",
    "(\"Jen\",\"Finance\",\"NY\",55000,53,15000),\n",
    "(\"Jeff\",None,\"CA\",80000,25,18000),\n",
    "(\"null\",\"Marketing\",\"NY\",91000,50,21000)\n",
    "]\n",
    "# Create DataFrame\n",
    "schema = [\"employee_name\",\"department\",\"state\",\"salary\",\"age\",\"bonus\"]\n",
    "dfa = spark.createDataFrame(data=simpleData, schema = schema)\n",
    "dfa.show()\n"
   ]
  },
  {
   "cell_type": "code",
   "execution_count": 0,
   "metadata": {
    "application/vnd.databricks.v1+cell": {
     "cellMetadata": {
      "byteLimit": 2048000,
      "rowLimit": 10000
     },
     "inputWidgets": {},
     "nuid": "5782cec4-80cc-42f4-8dc6-56bc418ba105",
     "showTitle": false,
     "tableResultSettingsMap": {},
     "title": ""
    }
   },
   "outputs": [
    {
     "output_type": "stream",
     "name": "stdout",
     "output_type": "stream",
     "text": [
      "+-------------+----------+-----+------+---+-----+\n|employee_name|department|state|salary|age|bonus|\n+-------------+----------+-----+------+---+-----+\n|        James|     Sales|   NY| 90000| 34|10000|\n|      Michael|     Sales|   NY| 86000| 56|20000|\n|        Maria|   Finance|   CA| 90000| 24|23000|\n|          Jen|   Finance|   NY| 55000| 53|15000|\n|         Jeff|      null|   CA| 80000| 25|18000|\n|         null| Marketing|   NY| 91000| 50|21000|\n+-------------+----------+-----+------+---+-----+\n\n"
     ]
    }
   ],
   "source": [
    "from pyspark.sql import SparkSession\n",
    "\n",
    "\n",
    "# Initialize SparkSession\n",
    "spark = SparkSession.builder \\\n",
    ".appName(\"example\") \\\n",
    ".getOrCreate()\n",
    "# Data\n",
    "simpleData = [(\"James\",\"Sales\",\"NY\",90000,34,10000),\n",
    "(\"Michael\",\"Sales\",\"NY\",86000,56,20000),\n",
    "(\"Robert\",\"Sales\",\"CA\",81000,None,23000),\n",
    "(\"Maria\",\"Finance\",\"CA\",90000,24,23000),\n",
    "(\"Raman\",\"Finance\",\"CA\",99000,40,None),\n",
    "(\"Scott\",\"Finance\",\"NY\",None,36,44000),\n",
    "(\"Jen\",\"Finance\",\"NY\",55000,53,15000),\n",
    "(\"Jeff\",\"null\",\"CA\",80000,25,18000),\n",
    "(\"null\",\"Marketing\",\"NY\",91000,50,21000)\n",
    "]\n",
    "# Create DataFrame\n",
    "schema = [\"employee_name\",\"department\",\"state\",\"salary\",\"age\",\"bonus\"]\n",
    "dfa = spark.createDataFrame(data=simpleData, schema = schema)\n",
    "dfa.na.drop().show()"
   ]
  },
  {
   "cell_type": "code",
   "execution_count": 0,
   "metadata": {
    "application/vnd.databricks.v1+cell": {
     "cellMetadata": {
      "byteLimit": 2048000,
      "rowLimit": 10000
     },
     "inputWidgets": {},
     "nuid": "24bd4245-dd17-488b-9c4c-92e779177c22",
     "showTitle": false,
     "tableResultSettingsMap": {},
     "title": ""
    }
   },
   "outputs": [
    {
     "output_type": "stream",
     "name": "stdout",
     "output_type": "stream",
     "text": [
      "+-------------+----------+-----+------+---+-----+\n|employee_name|department|state|salary|age|bonus|\n+-------------+----------+-----+------+---+-----+\n|        James|     Sales|   NY| 90000| 34|10000|\n|          Jen|   Finance|   NY| 79000| 53|15000|\n|         Jeff| Marketing|   CA| 80000| 25|18000|\n|        Scott|   Finance|   NY| 83000| 36|19000|\n|      Michael|     Sales|   NY| 86000| 56|20000|\n|        Kumar| Marketing|   NY| 91000| 50|21000|\n|        Maria|   Finance|   CA| 90000| 24|23000|\n|       Robert|     Sales|   CA| 81000| 30|23000|\n|        Raman|   Finance|   CA| 99000| 40|24000|\n+-------------+----------+-----+------+---+-----+\n\n+-------------+----------+-----+------+---+-----+\n|employee_name|department|state|salary|age|bonus|\n+-------------+----------+-----+------+---+-----+\n|        Raman|   Finance|   CA| 99000| 40|24000|\n|        Kumar| Marketing|   NY| 91000| 50|21000|\n|        James|     Sales|   NY| 90000| 34|10000|\n|        Maria|   Finance|   CA| 90000| 24|23000|\n|      Michael|     Sales|   NY| 86000| 56|20000|\n|        Scott|   Finance|   NY| 83000| 36|19000|\n|       Robert|     Sales|   CA| 81000| 30|23000|\n|         Jeff| Marketing|   CA| 80000| 25|18000|\n|          Jen|   Finance|   NY| 79000| 53|15000|\n+-------------+----------+-----+------+---+-----+\n\n"
     ]
    }
   ],
   "source": [
    "df.sort('bonus').show()\n",
    "df.sort(df['salary'].desc()).show()"
   ]
  },
  {
   "cell_type": "code",
   "execution_count": 0,
   "metadata": {
    "application/vnd.databricks.v1+cell": {
     "cellMetadata": {
      "byteLimit": 2048000,
      "rowLimit": 10000
     },
     "inputWidgets": {},
     "nuid": "be611ff2-7f19-4c78-9b58-bd0b56b6d191",
     "showTitle": false,
     "tableResultSettingsMap": {},
     "title": ""
    }
   },
   "outputs": [],
   "source": []
  }
 ],
 "metadata": {
  "application/vnd.databricks.v1+notebook": {
   "dashboards": [],
   "environmentMetadata": null,
   "language": "python",
   "notebookMetadata": {
    "pythonIndentUnit": 4
   },
   "notebookName": "Manipulating, Droping, Sorting, Aggregations, Joining, GroupeBy DataFrames",
   "widgets": {}
  }
 },
 "nbformat": 4,
 "nbformat_minor": 0
}
